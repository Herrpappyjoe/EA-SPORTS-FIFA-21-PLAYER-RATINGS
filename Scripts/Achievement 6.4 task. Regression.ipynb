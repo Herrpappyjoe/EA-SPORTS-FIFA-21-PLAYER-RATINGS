{
 "cells": [
  {
   "cell_type": "markdown",
   "id": "6971ec85",
   "metadata": {},
   "source": [
    "# Exercise 6.4 Supervised Machine Learning: Regression\n",
    "\n",
    "This script contains the following:\n",
    "1. Importing libraries and data\n",
    "2. Data cleaning\n",
    "3. Data preparation for regression analysis\n",
    "4. Regression analysis"
   ]
  },
  {
   "cell_type": "code",
   "execution_count": 1,
   "id": "74fabd8f",
   "metadata": {},
   "outputs": [],
   "source": [
    "# Importing libraries\n",
    "import pandas as pd\n",
    "import numpy as np\n",
    "import seaborn as sns\n",
    "import matplotlib\n",
    "import matplotlib.pyplot as plt\n",
    "import os\n",
    "import sklearn\n",
    "from sklearn.model_selection import train_test_split\n",
    "from sklearn.linear_model import LinearRegression\n",
    "from sklearn.metrics import mean_squared_error, r2_score"
   ]
  },
  {
   "cell_type": "code",
   "execution_count": 2,
   "id": "30c86f3e",
   "metadata": {},
   "outputs": [],
   "source": [
    "#This option ensures that the graphs you create are displayed within the notebook without the need to \"call\" them specifically\n",
    "%matplotlib inline"
   ]
  },
  {
   "cell_type": "code",
   "execution_count": 3,
   "id": "0ea15eaa",
   "metadata": {},
   "outputs": [],
   "source": [
    "path=r\"C:\\Users\\klein\\Achievement 6 Project- Advanced Analytics & Dashboard Design\""
   ]
  },
  {
   "cell_type": "code",
   "execution_count": 4,
   "id": "c25cee9a",
   "metadata": {},
   "outputs": [],
   "source": [
    "fifa_21= pd.read_csv(os.path.join(path, 'Data', 'Prepared Data', 'fifa_21_ratinglevel.csv'), index_col = False)"
   ]
  },
  {
   "cell_type": "code",
   "execution_count": 5,
   "id": "d618524d",
   "metadata": {},
   "outputs": [
    {
     "data": {
      "text/html": [
       "<div>\n",
       "<style scoped>\n",
       "    .dataframe tbody tr th:only-of-type {\n",
       "        vertical-align: middle;\n",
       "    }\n",
       "\n",
       "    .dataframe tbody tr th {\n",
       "        vertical-align: top;\n",
       "    }\n",
       "\n",
       "    .dataframe thead th {\n",
       "        text-align: right;\n",
       "    }\n",
       "</style>\n",
       "<table border=\"1\" class=\"dataframe\">\n",
       "  <thead>\n",
       "    <tr style=\"text-align: right;\">\n",
       "      <th></th>\n",
       "      <th>Unnamed: 0</th>\n",
       "      <th>sofifa_id</th>\n",
       "      <th>age</th>\n",
       "      <th>height_cm</th>\n",
       "      <th>weight_kg</th>\n",
       "      <th>nationality</th>\n",
       "      <th>league_rank</th>\n",
       "      <th>player_rating</th>\n",
       "      <th>potential</th>\n",
       "      <th>value_eur</th>\n",
       "      <th>wage_eur</th>\n",
       "      <th>player_positions</th>\n",
       "      <th>preferred_foot</th>\n",
       "      <th>work_rate</th>\n",
       "      <th>international_reputation</th>\n",
       "      <th>Rating Level</th>\n",
       "    </tr>\n",
       "  </thead>\n",
       "  <tbody>\n",
       "    <tr>\n",
       "      <th>0</th>\n",
       "      <td>0</td>\n",
       "      <td>158023</td>\n",
       "      <td>33</td>\n",
       "      <td>170</td>\n",
       "      <td>72</td>\n",
       "      <td>Argentina</td>\n",
       "      <td>1.0</td>\n",
       "      <td>93</td>\n",
       "      <td>93</td>\n",
       "      <td>67500000</td>\n",
       "      <td>560000</td>\n",
       "      <td>RW, ST, CF</td>\n",
       "      <td>Left</td>\n",
       "      <td>Medium/Low</td>\n",
       "      <td>5</td>\n",
       "      <td>High rating</td>\n",
       "    </tr>\n",
       "    <tr>\n",
       "      <th>1</th>\n",
       "      <td>1</td>\n",
       "      <td>20801</td>\n",
       "      <td>35</td>\n",
       "      <td>187</td>\n",
       "      <td>83</td>\n",
       "      <td>Portugal</td>\n",
       "      <td>1.0</td>\n",
       "      <td>92</td>\n",
       "      <td>92</td>\n",
       "      <td>46000000</td>\n",
       "      <td>220000</td>\n",
       "      <td>ST, LW</td>\n",
       "      <td>Right</td>\n",
       "      <td>High/Low</td>\n",
       "      <td>5</td>\n",
       "      <td>High rating</td>\n",
       "    </tr>\n",
       "    <tr>\n",
       "      <th>2</th>\n",
       "      <td>2</td>\n",
       "      <td>200389</td>\n",
       "      <td>27</td>\n",
       "      <td>188</td>\n",
       "      <td>87</td>\n",
       "      <td>Slovenia</td>\n",
       "      <td>1.0</td>\n",
       "      <td>91</td>\n",
       "      <td>93</td>\n",
       "      <td>75000000</td>\n",
       "      <td>125000</td>\n",
       "      <td>GK</td>\n",
       "      <td>Right</td>\n",
       "      <td>Medium/Medium</td>\n",
       "      <td>3</td>\n",
       "      <td>High rating</td>\n",
       "    </tr>\n",
       "    <tr>\n",
       "      <th>3</th>\n",
       "      <td>3</td>\n",
       "      <td>188545</td>\n",
       "      <td>31</td>\n",
       "      <td>184</td>\n",
       "      <td>80</td>\n",
       "      <td>Poland</td>\n",
       "      <td>1.0</td>\n",
       "      <td>91</td>\n",
       "      <td>91</td>\n",
       "      <td>80000000</td>\n",
       "      <td>240000</td>\n",
       "      <td>ST</td>\n",
       "      <td>Right</td>\n",
       "      <td>High/Medium</td>\n",
       "      <td>4</td>\n",
       "      <td>High rating</td>\n",
       "    </tr>\n",
       "    <tr>\n",
       "      <th>4</th>\n",
       "      <td>4</td>\n",
       "      <td>190871</td>\n",
       "      <td>28</td>\n",
       "      <td>175</td>\n",
       "      <td>68</td>\n",
       "      <td>Brazil</td>\n",
       "      <td>1.0</td>\n",
       "      <td>91</td>\n",
       "      <td>91</td>\n",
       "      <td>90000000</td>\n",
       "      <td>270000</td>\n",
       "      <td>LW, CAM</td>\n",
       "      <td>Right</td>\n",
       "      <td>High/Medium</td>\n",
       "      <td>5</td>\n",
       "      <td>High rating</td>\n",
       "    </tr>\n",
       "  </tbody>\n",
       "</table>\n",
       "</div>"
      ],
      "text/plain": [
       "   Unnamed: 0  sofifa_id  age  height_cm  weight_kg nationality  league_rank  \\\n",
       "0           0     158023   33        170         72   Argentina          1.0   \n",
       "1           1      20801   35        187         83    Portugal          1.0   \n",
       "2           2     200389   27        188         87    Slovenia          1.0   \n",
       "3           3     188545   31        184         80      Poland          1.0   \n",
       "4           4     190871   28        175         68      Brazil          1.0   \n",
       "\n",
       "   player_rating  potential  value_eur  wage_eur player_positions  \\\n",
       "0             93         93   67500000    560000       RW, ST, CF   \n",
       "1             92         92   46000000    220000           ST, LW   \n",
       "2             91         93   75000000    125000               GK   \n",
       "3             91         91   80000000    240000               ST   \n",
       "4             91         91   90000000    270000          LW, CAM   \n",
       "\n",
       "  preferred_foot      work_rate  international_reputation Rating Level  \n",
       "0           Left     Medium/Low                         5  High rating  \n",
       "1          Right       High/Low                         5  High rating  \n",
       "2          Right  Medium/Medium                         3  High rating  \n",
       "3          Right    High/Medium                         4  High rating  \n",
       "4          Right    High/Medium                         5  High rating  "
      ]
     },
     "execution_count": 5,
     "metadata": {},
     "output_type": "execute_result"
    }
   ],
   "source": [
    "fifa_21.head()"
   ]
  },
  {
   "cell_type": "markdown",
   "id": "7eba0576",
   "metadata": {},
   "source": [
    "# Data Cleaning"
   ]
  },
  {
   "cell_type": "code",
   "execution_count": 6,
   "id": "b1689ca2",
   "metadata": {},
   "outputs": [],
   "source": [
    "#Dropping the unnamed column\n",
    "fifa_21.drop(columns=['Unnamed: 0'], inplace = True)"
   ]
  },
  {
   "cell_type": "code",
   "execution_count": 7,
   "id": "5041c41b",
   "metadata": {},
   "outputs": [
    {
     "data": {
      "text/html": [
       "<div>\n",
       "<style scoped>\n",
       "    .dataframe tbody tr th:only-of-type {\n",
       "        vertical-align: middle;\n",
       "    }\n",
       "\n",
       "    .dataframe tbody tr th {\n",
       "        vertical-align: top;\n",
       "    }\n",
       "\n",
       "    .dataframe thead th {\n",
       "        text-align: right;\n",
       "    }\n",
       "</style>\n",
       "<table border=\"1\" class=\"dataframe\">\n",
       "  <thead>\n",
       "    <tr style=\"text-align: right;\">\n",
       "      <th></th>\n",
       "      <th>sofifa_id</th>\n",
       "      <th>age</th>\n",
       "      <th>height_cm</th>\n",
       "      <th>weight_kg</th>\n",
       "      <th>nationality</th>\n",
       "      <th>league_rank</th>\n",
       "      <th>player_rating</th>\n",
       "      <th>potential</th>\n",
       "      <th>value_eur</th>\n",
       "      <th>wage_eur</th>\n",
       "      <th>player_positions</th>\n",
       "      <th>preferred_foot</th>\n",
       "      <th>work_rate</th>\n",
       "      <th>international_reputation</th>\n",
       "      <th>Rating Level</th>\n",
       "    </tr>\n",
       "  </thead>\n",
       "  <tbody>\n",
       "    <tr>\n",
       "      <th>0</th>\n",
       "      <td>158023</td>\n",
       "      <td>33</td>\n",
       "      <td>170</td>\n",
       "      <td>72</td>\n",
       "      <td>Argentina</td>\n",
       "      <td>1.0</td>\n",
       "      <td>93</td>\n",
       "      <td>93</td>\n",
       "      <td>67500000</td>\n",
       "      <td>560000</td>\n",
       "      <td>RW, ST, CF</td>\n",
       "      <td>Left</td>\n",
       "      <td>Medium/Low</td>\n",
       "      <td>5</td>\n",
       "      <td>High rating</td>\n",
       "    </tr>\n",
       "    <tr>\n",
       "      <th>1</th>\n",
       "      <td>20801</td>\n",
       "      <td>35</td>\n",
       "      <td>187</td>\n",
       "      <td>83</td>\n",
       "      <td>Portugal</td>\n",
       "      <td>1.0</td>\n",
       "      <td>92</td>\n",
       "      <td>92</td>\n",
       "      <td>46000000</td>\n",
       "      <td>220000</td>\n",
       "      <td>ST, LW</td>\n",
       "      <td>Right</td>\n",
       "      <td>High/Low</td>\n",
       "      <td>5</td>\n",
       "      <td>High rating</td>\n",
       "    </tr>\n",
       "    <tr>\n",
       "      <th>2</th>\n",
       "      <td>200389</td>\n",
       "      <td>27</td>\n",
       "      <td>188</td>\n",
       "      <td>87</td>\n",
       "      <td>Slovenia</td>\n",
       "      <td>1.0</td>\n",
       "      <td>91</td>\n",
       "      <td>93</td>\n",
       "      <td>75000000</td>\n",
       "      <td>125000</td>\n",
       "      <td>GK</td>\n",
       "      <td>Right</td>\n",
       "      <td>Medium/Medium</td>\n",
       "      <td>3</td>\n",
       "      <td>High rating</td>\n",
       "    </tr>\n",
       "    <tr>\n",
       "      <th>3</th>\n",
       "      <td>188545</td>\n",
       "      <td>31</td>\n",
       "      <td>184</td>\n",
       "      <td>80</td>\n",
       "      <td>Poland</td>\n",
       "      <td>1.0</td>\n",
       "      <td>91</td>\n",
       "      <td>91</td>\n",
       "      <td>80000000</td>\n",
       "      <td>240000</td>\n",
       "      <td>ST</td>\n",
       "      <td>Right</td>\n",
       "      <td>High/Medium</td>\n",
       "      <td>4</td>\n",
       "      <td>High rating</td>\n",
       "    </tr>\n",
       "    <tr>\n",
       "      <th>4</th>\n",
       "      <td>190871</td>\n",
       "      <td>28</td>\n",
       "      <td>175</td>\n",
       "      <td>68</td>\n",
       "      <td>Brazil</td>\n",
       "      <td>1.0</td>\n",
       "      <td>91</td>\n",
       "      <td>91</td>\n",
       "      <td>90000000</td>\n",
       "      <td>270000</td>\n",
       "      <td>LW, CAM</td>\n",
       "      <td>Right</td>\n",
       "      <td>High/Medium</td>\n",
       "      <td>5</td>\n",
       "      <td>High rating</td>\n",
       "    </tr>\n",
       "  </tbody>\n",
       "</table>\n",
       "</div>"
      ],
      "text/plain": [
       "   sofifa_id  age  height_cm  weight_kg nationality  league_rank  \\\n",
       "0     158023   33        170         72   Argentina          1.0   \n",
       "1      20801   35        187         83    Portugal          1.0   \n",
       "2     200389   27        188         87    Slovenia          1.0   \n",
       "3     188545   31        184         80      Poland          1.0   \n",
       "4     190871   28        175         68      Brazil          1.0   \n",
       "\n",
       "   player_rating  potential  value_eur  wage_eur player_positions  \\\n",
       "0             93         93   67500000    560000       RW, ST, CF   \n",
       "1             92         92   46000000    220000           ST, LW   \n",
       "2             91         93   75000000    125000               GK   \n",
       "3             91         91   80000000    240000               ST   \n",
       "4             91         91   90000000    270000          LW, CAM   \n",
       "\n",
       "  preferred_foot      work_rate  international_reputation Rating Level  \n",
       "0           Left     Medium/Low                         5  High rating  \n",
       "1          Right       High/Low                         5  High rating  \n",
       "2          Right  Medium/Medium                         3  High rating  \n",
       "3          Right    High/Medium                         4  High rating  \n",
       "4          Right    High/Medium                         5  High rating  "
      ]
     },
     "execution_count": 7,
     "metadata": {},
     "output_type": "execute_result"
    }
   ],
   "source": [
    "fifa_21.head()"
   ]
  },
  {
   "cell_type": "code",
   "execution_count": 8,
   "id": "2c7fc5e4",
   "metadata": {},
   "outputs": [
    {
     "data": {
      "text/plain": [
       "Index(['sofifa_id', 'age', 'height_cm', 'weight_kg', 'nationality',\n",
       "       'league_rank', 'player_rating', 'potential', 'value_eur', 'wage_eur',\n",
       "       'player_positions', 'preferred_foot', 'work_rate',\n",
       "       'international_reputation', 'Rating Level'],\n",
       "      dtype='object')"
      ]
     },
     "execution_count": 8,
     "metadata": {},
     "output_type": "execute_result"
    }
   ],
   "source": [
    "fifa_21.columns"
   ]
  },
  {
   "cell_type": "code",
   "execution_count": 10,
   "id": "48e03413",
   "metadata": {},
   "outputs": [],
   "source": [
    "#Dropping the unneeded columns\n",
    "fifa_21_new = fifa_21[['sofifa_id', 'age', 'height_cm', 'weight_kg', 'nationality',\n",
    "       'league_rank', 'player_rating', 'potential', 'value_eur', 'wage_eur']]"
   ]
  },
  {
   "cell_type": "code",
   "execution_count": 11,
   "id": "e808e7dd",
   "metadata": {},
   "outputs": [
    {
     "name": "stderr",
     "output_type": "stream",
     "text": [
      "C:\\Users\\klein\\anaconda3\\lib\\site-packages\\pandas\\core\\frame.py:5039: SettingWithCopyWarning: \n",
      "A value is trying to be set on a copy of a slice from a DataFrame\n",
      "\n",
      "See the caveats in the documentation: https://pandas.pydata.org/pandas-docs/stable/user_guide/indexing.html#returning-a-view-versus-a-copy\n",
      "  return super().rename(\n"
     ]
    }
   ],
   "source": [
    "#Renaming the columns\n",
    "fifa_21_new.rename(columns = {'sofifa_id' : 'Player ID', 'age' : 'Age', 'value_eur' : 'Market Value Euro', 'wage_eur' : 'Wages Euro'}, inplace = True)"
   ]
  },
  {
   "cell_type": "code",
   "execution_count": 12,
   "id": "812afd37",
   "metadata": {},
   "outputs": [
    {
     "data": {
      "text/html": [
       "<div>\n",
       "<style scoped>\n",
       "    .dataframe tbody tr th:only-of-type {\n",
       "        vertical-align: middle;\n",
       "    }\n",
       "\n",
       "    .dataframe tbody tr th {\n",
       "        vertical-align: top;\n",
       "    }\n",
       "\n",
       "    .dataframe thead th {\n",
       "        text-align: right;\n",
       "    }\n",
       "</style>\n",
       "<table border=\"1\" class=\"dataframe\">\n",
       "  <thead>\n",
       "    <tr style=\"text-align: right;\">\n",
       "      <th></th>\n",
       "      <th>Player ID</th>\n",
       "      <th>Age</th>\n",
       "      <th>height_cm</th>\n",
       "      <th>weight_kg</th>\n",
       "      <th>nationality</th>\n",
       "      <th>league_rank</th>\n",
       "      <th>player_rating</th>\n",
       "      <th>potential</th>\n",
       "      <th>Market Value Euro</th>\n",
       "      <th>Wages Euro</th>\n",
       "    </tr>\n",
       "  </thead>\n",
       "  <tbody>\n",
       "    <tr>\n",
       "      <th>0</th>\n",
       "      <td>158023</td>\n",
       "      <td>33</td>\n",
       "      <td>170</td>\n",
       "      <td>72</td>\n",
       "      <td>Argentina</td>\n",
       "      <td>1.0</td>\n",
       "      <td>93</td>\n",
       "      <td>93</td>\n",
       "      <td>67500000</td>\n",
       "      <td>560000</td>\n",
       "    </tr>\n",
       "    <tr>\n",
       "      <th>1</th>\n",
       "      <td>20801</td>\n",
       "      <td>35</td>\n",
       "      <td>187</td>\n",
       "      <td>83</td>\n",
       "      <td>Portugal</td>\n",
       "      <td>1.0</td>\n",
       "      <td>92</td>\n",
       "      <td>92</td>\n",
       "      <td>46000000</td>\n",
       "      <td>220000</td>\n",
       "    </tr>\n",
       "    <tr>\n",
       "      <th>2</th>\n",
       "      <td>200389</td>\n",
       "      <td>27</td>\n",
       "      <td>188</td>\n",
       "      <td>87</td>\n",
       "      <td>Slovenia</td>\n",
       "      <td>1.0</td>\n",
       "      <td>91</td>\n",
       "      <td>93</td>\n",
       "      <td>75000000</td>\n",
       "      <td>125000</td>\n",
       "    </tr>\n",
       "    <tr>\n",
       "      <th>3</th>\n",
       "      <td>188545</td>\n",
       "      <td>31</td>\n",
       "      <td>184</td>\n",
       "      <td>80</td>\n",
       "      <td>Poland</td>\n",
       "      <td>1.0</td>\n",
       "      <td>91</td>\n",
       "      <td>91</td>\n",
       "      <td>80000000</td>\n",
       "      <td>240000</td>\n",
       "    </tr>\n",
       "    <tr>\n",
       "      <th>4</th>\n",
       "      <td>190871</td>\n",
       "      <td>28</td>\n",
       "      <td>175</td>\n",
       "      <td>68</td>\n",
       "      <td>Brazil</td>\n",
       "      <td>1.0</td>\n",
       "      <td>91</td>\n",
       "      <td>91</td>\n",
       "      <td>90000000</td>\n",
       "      <td>270000</td>\n",
       "    </tr>\n",
       "    <tr>\n",
       "      <th>...</th>\n",
       "      <td>...</td>\n",
       "      <td>...</td>\n",
       "      <td>...</td>\n",
       "      <td>...</td>\n",
       "      <td>...</td>\n",
       "      <td>...</td>\n",
       "      <td>...</td>\n",
       "      <td>...</td>\n",
       "      <td>...</td>\n",
       "      <td>...</td>\n",
       "    </tr>\n",
       "    <tr>\n",
       "      <th>18714</th>\n",
       "      <td>256679</td>\n",
       "      <td>24</td>\n",
       "      <td>176</td>\n",
       "      <td>73</td>\n",
       "      <td>Colombia</td>\n",
       "      <td>1.0</td>\n",
       "      <td>47</td>\n",
       "      <td>52</td>\n",
       "      <td>40000</td>\n",
       "      <td>500</td>\n",
       "    </tr>\n",
       "    <tr>\n",
       "      <th>18715</th>\n",
       "      <td>257710</td>\n",
       "      <td>21</td>\n",
       "      <td>177</td>\n",
       "      <td>70</td>\n",
       "      <td>China PR</td>\n",
       "      <td>1.0</td>\n",
       "      <td>47</td>\n",
       "      <td>52</td>\n",
       "      <td>35000</td>\n",
       "      <td>1000</td>\n",
       "    </tr>\n",
       "    <tr>\n",
       "      <th>18716</th>\n",
       "      <td>250989</td>\n",
       "      <td>20</td>\n",
       "      <td>185</td>\n",
       "      <td>74</td>\n",
       "      <td>China PR</td>\n",
       "      <td>1.0</td>\n",
       "      <td>47</td>\n",
       "      <td>51</td>\n",
       "      <td>35000</td>\n",
       "      <td>1000</td>\n",
       "    </tr>\n",
       "    <tr>\n",
       "      <th>18717</th>\n",
       "      <td>257697</td>\n",
       "      <td>23</td>\n",
       "      <td>186</td>\n",
       "      <td>80</td>\n",
       "      <td>China PR</td>\n",
       "      <td>1.0</td>\n",
       "      <td>47</td>\n",
       "      <td>51</td>\n",
       "      <td>40000</td>\n",
       "      <td>1000</td>\n",
       "    </tr>\n",
       "    <tr>\n",
       "      <th>18718</th>\n",
       "      <td>257936</td>\n",
       "      <td>28</td>\n",
       "      <td>185</td>\n",
       "      <td>79</td>\n",
       "      <td>China PR</td>\n",
       "      <td>1.0</td>\n",
       "      <td>47</td>\n",
       "      <td>47</td>\n",
       "      <td>30000</td>\n",
       "      <td>2000</td>\n",
       "    </tr>\n",
       "  </tbody>\n",
       "</table>\n",
       "<p>18719 rows × 10 columns</p>\n",
       "</div>"
      ],
      "text/plain": [
       "       Player ID  Age  height_cm  weight_kg nationality  league_rank  \\\n",
       "0         158023   33        170         72   Argentina          1.0   \n",
       "1          20801   35        187         83    Portugal          1.0   \n",
       "2         200389   27        188         87    Slovenia          1.0   \n",
       "3         188545   31        184         80      Poland          1.0   \n",
       "4         190871   28        175         68      Brazil          1.0   \n",
       "...          ...  ...        ...        ...         ...          ...   \n",
       "18714     256679   24        176         73    Colombia          1.0   \n",
       "18715     257710   21        177         70    China PR          1.0   \n",
       "18716     250989   20        185         74    China PR          1.0   \n",
       "18717     257697   23        186         80    China PR          1.0   \n",
       "18718     257936   28        185         79    China PR          1.0   \n",
       "\n",
       "       player_rating  potential  Market Value Euro  Wages Euro  \n",
       "0                 93         93           67500000      560000  \n",
       "1                 92         92           46000000      220000  \n",
       "2                 91         93           75000000      125000  \n",
       "3                 91         91           80000000      240000  \n",
       "4                 91         91           90000000      270000  \n",
       "...              ...        ...                ...         ...  \n",
       "18714             47         52              40000         500  \n",
       "18715             47         52              35000        1000  \n",
       "18716             47         51              35000        1000  \n",
       "18717             47         51              40000        1000  \n",
       "18718             47         47              30000        2000  \n",
       "\n",
       "[18719 rows x 10 columns]"
      ]
     },
     "execution_count": 12,
     "metadata": {},
     "output_type": "execute_result"
    }
   ],
   "source": [
    "fifa_21_new"
   ]
  },
  {
   "cell_type": "markdown",
   "id": "c2ade168",
   "metadata": {},
   "source": [
    "# Missing values"
   ]
  },
  {
   "cell_type": "code",
   "execution_count": 13,
   "id": "c4fc20fa",
   "metadata": {},
   "outputs": [
    {
     "data": {
      "text/plain": [
       "Player ID            0\n",
       "Age                  0\n",
       "height_cm            0\n",
       "weight_kg            0\n",
       "nationality          0\n",
       "league_rank          0\n",
       "player_rating        0\n",
       "potential            0\n",
       "Market Value Euro    0\n",
       "Wages Euro           0\n",
       "dtype: int64"
      ]
     },
     "execution_count": 13,
     "metadata": {},
     "output_type": "execute_result"
    }
   ],
   "source": [
    "#Check for missing values\n",
    "\n",
    "fifa_21_new.isnull().sum()\n",
    "\n",
    "#No missing values to handle"
   ]
  },
  {
   "cell_type": "markdown",
   "id": "b5e68265",
   "metadata": {},
   "source": [
    "Duplicates Check"
   ]
  },
  {
   "cell_type": "code",
   "execution_count": 14,
   "id": "167025a4",
   "metadata": {},
   "outputs": [],
   "source": [
    "dups = fifa_21_new.duplicated()"
   ]
  },
  {
   "cell_type": "code",
   "execution_count": 15,
   "id": "ea33d250",
   "metadata": {},
   "outputs": [
    {
     "data": {
      "text/plain": [
       "(18719,)"
      ]
     },
     "execution_count": 15,
     "metadata": {},
     "output_type": "execute_result"
    }
   ],
   "source": [
    "#No duplicates\n",
    "dups.shape"
   ]
  },
  {
   "cell_type": "markdown",
   "id": "e512231e",
   "metadata": {},
   "source": [
    "Extreme values check"
   ]
  },
  {
   "cell_type": "code",
   "execution_count": 16,
   "id": "c570436d",
   "metadata": {},
   "outputs": [
    {
     "name": "stderr",
     "output_type": "stream",
     "text": [
      "C:\\Users\\klein\\anaconda3\\lib\\site-packages\\seaborn\\distributions.py:2619: FutureWarning: `distplot` is a deprecated function and will be removed in a future version. Please adapt your code to use either `displot` (a figure-level function with similar flexibility) or `histplot` (an axes-level function for histograms).\n",
      "  warnings.warn(msg, FutureWarning)\n"
     ]
    },
    {
     "data": {
      "text/plain": [
       "<AxesSubplot:xlabel='player_rating', ylabel='Density'>"
      ]
     },
     "execution_count": 16,
     "metadata": {},
     "output_type": "execute_result"
    },
    {
     "data": {
      "image/png": "[encoded data removed]",
      "text/plain": [
       "<Figure size 432x288 with 1 Axes>"
      ]
     },
     "metadata": {
      "needs_background": "light"
     },
     "output_type": "display_data"
    }
   ],
   "source": [
    "sns.distplot(fifa_21_new['player_rating'], bins=25) #shows extreme values"
   ]
  },
  {
   "cell_type": "code",
   "execution_count": 17,
   "id": "8c2436ba",
   "metadata": {},
   "outputs": [
    {
     "data": {
      "text/plain": [
       "count    18719.000000\n",
       "mean        65.635023\n",
       "std          7.003908\n",
       "min         47.000000\n",
       "25%         61.000000\n",
       "50%         66.000000\n",
       "75%         70.000000\n",
       "max         93.000000\n",
       "Name: player_rating, dtype: float64"
      ]
     },
     "execution_count": 17,
     "metadata": {},
     "output_type": "execute_result"
    }
   ],
   "source": [
    "#Descriptive statistics\n",
    "fifa_21_new['player_rating'].describe()"
   ]
  },
  {
   "cell_type": "markdown",
   "id": "2b9d36d0",
   "metadata": {},
   "source": [
    "# 3. Data preparation for regression analysis\n",
    "\n",
    "Hypothesis: If there is an increase in player wages then the higher their ratings"
   ]
  },
  {
   "cell_type": "code",
   "execution_count": 21,
   "id": "c9be0ab7",
   "metadata": {},
   "outputs": [
    {
     "data": {
      "image/png": "[encoded data removed]",
      "text/plain": [
       "<Figure size 432x288 with 1 Axes>"
      ]
     },
     "metadata": {
      "needs_background": "light"
     },
     "output_type": "display_data"
    }
   ],
   "source": [
    "# create a scatterplot using matplotlib for another look at how the chosen variables plot against each other. \n",
    "fifa_21_new.plot(x = 'Wages Euro', y='player_rating',style='o') # The style option creates a scatterplot; without it, we only have lines.\n",
    "plt.title('Players: Wages vs Ratings')\n",
    "plt.xlabel('wages(Euro)')\n",
    "plt.ylabel('player ratings')\n",
    "plt.show()"
   ]
  },
  {
   "cell_type": "code",
   "execution_count": 26,
   "id": "2c87b81b",
   "metadata": {},
   "outputs": [],
   "source": [
    "#Reshape the variables into Numpy arrays and put them into seperate objects\n",
    "\n",
    "X = fifa_21_new['Wages Euro'].values.reshape(-1,1)\n",
    "y = fifa_21_new['player_rating'].values.reshape(-1,1)"
   ]
  },
  {
   "cell_type": "code",
   "execution_count": 27,
   "id": "39661548",
   "metadata": {},
   "outputs": [
    {
     "data": {
      "text/plain": [
       "array([[560000],\n",
       "       [220000],\n",
       "       [125000],\n",
       "       ...,\n",
       "       [  1000],\n",
       "       [  1000],\n",
       "       [  2000]], dtype=int64)"
      ]
     },
     "execution_count": 27,
     "metadata": {},
     "output_type": "execute_result"
    }
   ],
   "source": [
    "X"
   ]
  },
  {
   "cell_type": "code",
   "execution_count": 28,
   "id": "d4c1321f",
   "metadata": {},
   "outputs": [
    {
     "data": {
      "text/plain": [
       "array([[93],\n",
       "       [92],\n",
       "       [91],\n",
       "       ...,\n",
       "       [47],\n",
       "       [47],\n",
       "       [47]], dtype=int64)"
      ]
     },
     "execution_count": 28,
     "metadata": {},
     "output_type": "execute_result"
    }
   ],
   "source": [
    "y"
   ]
  },
  {
   "cell_type": "code",
   "execution_count": 29,
   "id": "d23f2431",
   "metadata": {},
   "outputs": [],
   "source": [
    "#Split data into a training set and a test test.\n",
    "\n",
    "X_train, X_test, y_train, y_test = train_test_split(X, y, test_size=0.3, random_state=0)"
   ]
  },
  {
   "cell_type": "markdown",
   "id": "0ad1ef8c",
   "metadata": {},
   "source": [
    "# 4. Regression analysis"
   ]
  },
  {
   "cell_type": "code",
   "execution_count": 30,
   "id": "cab788cf",
   "metadata": {},
   "outputs": [],
   "source": [
    "#Create a regression object.\n",
    "regression = LinearRegression()  #This is the regression object, which will be fit onto the training set"
   ]
  },
  {
   "cell_type": "code",
   "execution_count": 31,
   "id": "c64fe5f8",
   "metadata": {},
   "outputs": [
    {
     "data": {
      "text/plain": [
       "LinearRegression()"
      ]
     },
     "execution_count": 31,
     "metadata": {},
     "output_type": "execute_result"
    }
   ],
   "source": [
    "# Fit the regression object onto the training set\n",
    "regression.fit(X_train, y_train)"
   ]
  },
  {
   "cell_type": "code",
   "execution_count": 32,
   "id": "aac57fb8",
   "metadata": {},
   "outputs": [],
   "source": [
    "#Predict the value of y using x\n",
    "\n",
    "y_predicted = regression.predict(X_test)"
   ]
  },
  {
   "cell_type": "code",
   "execution_count": 33,
   "id": "8d0822b8",
   "metadata": {},
   "outputs": [
    {
     "data": {
      "image/png": "[encoded data removed]",
      "text/plain": [
       "<Figure size 432x288 with 1 Axes>"
      ]
     },
     "metadata": {
      "needs_background": "light"
     },
     "output_type": "display_data"
    }
   ],
   "source": [
    "#Create a plot that shows the regression line from the model on the test set\n",
    "\n",
    "plot_test = plt\n",
    "plot_test.scatter(X_test, y_test, color='gray', s = 15)\n",
    "plot_test.plot(X_test, y_predicted, color='red', linewidth =3)\n",
    "plot_test.title('Players: Wages vs Ratings (Test set)')\n",
    "plot_test.xlabel('Wages Euro')\n",
    "plot_test.ylabel('Ratings')\n",
    "plot_test.show()"
   ]
  },
  {
   "cell_type": "markdown",
   "id": "858dc5c2",
   "metadata": {},
   "source": [
    "The trendline travels upwards diagonally from left to right showing a positive correlation between the variables. The data points are closer to the trendlines indicating a strong correlation as this confirms our hypothesis"
   ]
  },
  {
   "cell_type": "code",
   "execution_count": 34,
   "id": "ada90014",
   "metadata": {},
   "outputs": [],
   "source": [
    "# Create objects that contain the model summary statistics\n",
    "\n",
    "rmse = mean_squared_error(y_test, y_predicted) # This is the mean squared error\n",
    "r2 = r2_score(y_test, y_predicted) # This is the R2 score"
   ]
  },
  {
   "cell_type": "code",
   "execution_count": 35,
   "id": "92e14749",
   "metadata": {},
   "outputs": [
    {
     "name": "stdout",
     "output_type": "stream",
     "text": [
      "Slope: [[0.00020409]]\n",
      "Mean squared error:  31.543083910269825\n",
      "R2 score:  0.3441596977814342\n"
     ]
    }
   ],
   "source": [
    "#Print the model summary statistics. This is where you evaluate the performance of the model \n",
    "print('Slope:' ,regression.coef_)\n",
    "print('Mean squared error: ', rmse)\n",
    "print('R2 score: ', r2)"
   ]
  },
  {
   "cell_type": "markdown",
   "id": "15528b33",
   "metadata": {},
   "source": [
    "The slope is positive and it indicates that if there is an increase in (X: Wages Euro) so does (Y: player ratings)\n",
    "RMSE is 31.5 meaning the regression line is close to the data points\n",
    "The R2 score is 0.344, this means the model isn't a good fit"
   ]
  },
  {
   "cell_type": "code",
   "execution_count": 36,
   "id": "e36e9d46",
   "metadata": {},
   "outputs": [
    {
     "data": {
      "text/plain": [
       "array([[68.15211832],\n",
       "       [64.27442593],\n",
       "       [63.96829232],\n",
       "       ...,\n",
       "       [68.96847461],\n",
       "       [64.68260407],\n",
       "       [64.27442593]])"
      ]
     },
     "execution_count": 36,
     "metadata": {},
     "output_type": "execute_result"
    }
   ],
   "source": [
    "y_predicted"
   ]
  },
  {
   "cell_type": "code",
   "execution_count": 37,
   "id": "407addc2",
   "metadata": {},
   "outputs": [
    {
     "data": {
      "text/html": [
       "<div>\n",
       "<style scoped>\n",
       "    .dataframe tbody tr th:only-of-type {\n",
       "        vertical-align: middle;\n",
       "    }\n",
       "\n",
       "    .dataframe tbody tr th {\n",
       "        vertical-align: top;\n",
       "    }\n",
       "\n",
       "    .dataframe thead th {\n",
       "        text-align: right;\n",
       "    }\n",
       "</style>\n",
       "<table border=\"1\" class=\"dataframe\">\n",
       "  <thead>\n",
       "    <tr style=\"text-align: right;\">\n",
       "      <th></th>\n",
       "      <th>Actual</th>\n",
       "      <th>Predicted</th>\n",
       "    </tr>\n",
       "  </thead>\n",
       "  <tbody>\n",
       "    <tr>\n",
       "      <th>0</th>\n",
       "      <td>76</td>\n",
       "      <td>68.152118</td>\n",
       "    </tr>\n",
       "    <tr>\n",
       "      <th>1</th>\n",
       "      <td>67</td>\n",
       "      <td>64.274426</td>\n",
       "    </tr>\n",
       "    <tr>\n",
       "      <th>2</th>\n",
       "      <td>66</td>\n",
       "      <td>63.968292</td>\n",
       "    </tr>\n",
       "    <tr>\n",
       "      <th>3</th>\n",
       "      <td>57</td>\n",
       "      <td>63.968292</td>\n",
       "    </tr>\n",
       "    <tr>\n",
       "      <th>4</th>\n",
       "      <td>67</td>\n",
       "      <td>63.968292</td>\n",
       "    </tr>\n",
       "    <tr>\n",
       "      <th>5</th>\n",
       "      <td>64</td>\n",
       "      <td>64.478515</td>\n",
       "    </tr>\n",
       "    <tr>\n",
       "      <th>6</th>\n",
       "      <td>58</td>\n",
       "      <td>64.478515</td>\n",
       "    </tr>\n",
       "    <tr>\n",
       "      <th>7</th>\n",
       "      <td>58</td>\n",
       "      <td>63.968292</td>\n",
       "    </tr>\n",
       "    <tr>\n",
       "      <th>8</th>\n",
       "      <td>63</td>\n",
       "      <td>64.274426</td>\n",
       "    </tr>\n",
       "    <tr>\n",
       "      <th>9</th>\n",
       "      <td>59</td>\n",
       "      <td>63.968292</td>\n",
       "    </tr>\n",
       "    <tr>\n",
       "      <th>10</th>\n",
       "      <td>69</td>\n",
       "      <td>64.682604</td>\n",
       "    </tr>\n",
       "    <tr>\n",
       "      <th>11</th>\n",
       "      <td>74</td>\n",
       "      <td>68.968475</td>\n",
       "    </tr>\n",
       "    <tr>\n",
       "      <th>12</th>\n",
       "      <td>66</td>\n",
       "      <td>64.274426</td>\n",
       "    </tr>\n",
       "    <tr>\n",
       "      <th>13</th>\n",
       "      <td>71</td>\n",
       "      <td>68.356207</td>\n",
       "    </tr>\n",
       "    <tr>\n",
       "      <th>14</th>\n",
       "      <td>62</td>\n",
       "      <td>64.009110</td>\n",
       "    </tr>\n",
       "    <tr>\n",
       "      <th>15</th>\n",
       "      <td>70</td>\n",
       "      <td>65.294871</td>\n",
       "    </tr>\n",
       "    <tr>\n",
       "      <th>16</th>\n",
       "      <td>80</td>\n",
       "      <td>80.193374</td>\n",
       "    </tr>\n",
       "    <tr>\n",
       "      <th>17</th>\n",
       "      <td>72</td>\n",
       "      <td>66.519406</td>\n",
       "    </tr>\n",
       "    <tr>\n",
       "      <th>18</th>\n",
       "      <td>69</td>\n",
       "      <td>64.274426</td>\n",
       "    </tr>\n",
       "    <tr>\n",
       "      <th>19</th>\n",
       "      <td>66</td>\n",
       "      <td>64.478515</td>\n",
       "    </tr>\n",
       "    <tr>\n",
       "      <th>20</th>\n",
       "      <td>73</td>\n",
       "      <td>69.376653</td>\n",
       "    </tr>\n",
       "    <tr>\n",
       "      <th>21</th>\n",
       "      <td>70</td>\n",
       "      <td>63.968292</td>\n",
       "    </tr>\n",
       "    <tr>\n",
       "      <th>22</th>\n",
       "      <td>59</td>\n",
       "      <td>64.274426</td>\n",
       "    </tr>\n",
       "    <tr>\n",
       "      <th>23</th>\n",
       "      <td>66</td>\n",
       "      <td>63.968292</td>\n",
       "    </tr>\n",
       "    <tr>\n",
       "      <th>24</th>\n",
       "      <td>69</td>\n",
       "      <td>64.886693</td>\n",
       "    </tr>\n",
       "    <tr>\n",
       "      <th>25</th>\n",
       "      <td>61</td>\n",
       "      <td>64.682604</td>\n",
       "    </tr>\n",
       "    <tr>\n",
       "      <th>26</th>\n",
       "      <td>67</td>\n",
       "      <td>64.478515</td>\n",
       "    </tr>\n",
       "    <tr>\n",
       "      <th>27</th>\n",
       "      <td>56</td>\n",
       "      <td>64.478515</td>\n",
       "    </tr>\n",
       "    <tr>\n",
       "      <th>28</th>\n",
       "      <td>63</td>\n",
       "      <td>63.968292</td>\n",
       "    </tr>\n",
       "    <tr>\n",
       "      <th>29</th>\n",
       "      <td>69</td>\n",
       "      <td>66.927584</td>\n",
       "    </tr>\n",
       "  </tbody>\n",
       "</table>\n",
       "</div>"
      ],
      "text/plain": [
       "    Actual  Predicted\n",
       "0       76  68.152118\n",
       "1       67  64.274426\n",
       "2       66  63.968292\n",
       "3       57  63.968292\n",
       "4       67  63.968292\n",
       "5       64  64.478515\n",
       "6       58  64.478515\n",
       "7       58  63.968292\n",
       "8       63  64.274426\n",
       "9       59  63.968292\n",
       "10      69  64.682604\n",
       "11      74  68.968475\n",
       "12      66  64.274426\n",
       "13      71  68.356207\n",
       "14      62  64.009110\n",
       "15      70  65.294871\n",
       "16      80  80.193374\n",
       "17      72  66.519406\n",
       "18      69  64.274426\n",
       "19      66  64.478515\n",
       "20      73  69.376653\n",
       "21      70  63.968292\n",
       "22      59  64.274426\n",
       "23      66  63.968292\n",
       "24      69  64.886693\n",
       "25      61  64.682604\n",
       "26      67  64.478515\n",
       "27      56  64.478515\n",
       "28      63  63.968292\n",
       "29      69  66.927584"
      ]
     },
     "execution_count": 37,
     "metadata": {},
     "output_type": "execute_result"
    }
   ],
   "source": [
    "# Create a dataframe comparing the actual and predicted values of y\n",
    "data = pd.DataFrame({'Actual': y_test.flatten(), 'Predicted': y_predicted.flatten()})\n",
    "data.head(30)"
   ]
  },
  {
   "cell_type": "markdown",
   "id": "03b33a53",
   "metadata": {},
   "source": [
    "The relationship does not follow a single, straight line regression. Therfore, it wont be able to accurately predict the player ratings"
   ]
  },
  {
   "cell_type": "code",
   "execution_count": null,
   "id": "235301ae",
   "metadata": {},
   "outputs": [],
   "source": []
  }
 ],
 "metadata": {
  "kernelspec": {
   "display_name": "Python 3 (ipykernel)",
   "language": "python",
   "name": "python3"
  },
  "language_info": {
   "codemirror_mode": {
    "name": "ipython",
    "version": 3
   },
   "file_extension": ".py",
   "mimetype": "text/x-python",
   "name": "python",
   "nbconvert_exporter": "python",
   "pygments_lexer": "ipython3",
   "version": "3.9.7"
  }
 },
 "nbformat": 4,
 "nbformat_minor": 5
}
